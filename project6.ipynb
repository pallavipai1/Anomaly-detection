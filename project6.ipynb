{
 "cells": [
  {
   "cell_type": "markdown",
   "metadata": {},
   "source": [
    "# New York City Taxi Passenger Dataset\n",
    "This data set contains details of number of passengers using nyc_taxi for a period of six months- from 07/01/2014 to 01/31/2015.The total taxi passengers have been divided into a 30 minutes bucket. There are five anomalies occurring in this dataset:\n",
    "1. NYC Marathon- 11/02/2014\n",
    "2. Thanksgiving- 11/27/2014\n",
    "3. Christmas- 12/25/2014\n",
    "4. New Year's Day- 01/01/2015\n",
    "5. Snow storm- 01/26/2015 and 01/27/2015\n",
    "\n",
    "#### __Import Libraries__"
   ]
  },
  {
   "cell_type": "code",
   "execution_count": 148,
   "metadata": {},
   "outputs": [],
   "source": [
    "import pandas as pd\n",
    "import numpy as np\n",
    "import datetime\n",
    "import matplotlib.pyplot as plt\n",
    "import rrcf\n",
    "from sklearn.ensemble import IsolationForest\n",
    "import seaborn as sns\n",
    "import warnings\n",
    "warnings.filterwarnings(\"ignore\")"
   ]
  },
  {
   "cell_type": "markdown",
   "metadata": {},
   "source": [
    "__Load the dataset into pandas dataframe__"
   ]
  },
  {
   "cell_type": "code",
   "execution_count": 149,
   "metadata": {},
   "outputs": [
    {
     "name": "stdout",
     "output_type": "stream",
     "text": [
      "                     value\n",
      "timestamp                 \n",
      "2014-07-01 00:00:00  10844\n",
      "2014-07-01 00:30:00   8127\n",
      "2014-07-01 01:00:00   6210\n",
      "2014-07-01 01:30:00   4656\n",
      "2014-07-01 02:00:00   3820\n",
      "                     value\n",
      "timestamp                 \n",
      "2015-01-31 21:30:00  24670\n",
      "2015-01-31 22:00:00  25721\n",
      "2015-01-31 22:30:00  27309\n",
      "2015-01-31 23:00:00  26591\n",
      "2015-01-31 23:30:00  26288\n"
     ]
    }
   ],
   "source": [
    "taxi_data = pd.read_csv('nyc_taxi.csv',parse_dates=[\"timestamp\"],index_col=\"timestamp\")\n",
    "data = taxi_data['value'].astype(float).values\n",
    "print(taxi_data.head())\n",
    "print(taxi_data.tail())"
   ]
  },
  {
   "cell_type": "markdown",
   "metadata": {},
   "source": [
    "__Check and drop null values__"
   ]
  },
  {
   "cell_type": "code",
   "execution_count": 150,
   "metadata": {},
   "outputs": [
    {
     "data": {
      "text/html": [
       "<div>\n",
       "<style scoped>\n",
       "    .dataframe tbody tr th:only-of-type {\n",
       "        vertical-align: middle;\n",
       "    }\n",
       "\n",
       "    .dataframe tbody tr th {\n",
       "        vertical-align: top;\n",
       "    }\n",
       "\n",
       "    .dataframe thead th {\n",
       "        text-align: right;\n",
       "    }\n",
       "</style>\n",
       "<table border=\"1\" class=\"dataframe\">\n",
       "  <thead>\n",
       "    <tr style=\"text-align: right;\">\n",
       "      <th></th>\n",
       "      <th>value</th>\n",
       "    </tr>\n",
       "    <tr>\n",
       "      <th>timestamp</th>\n",
       "      <th></th>\n",
       "    </tr>\n",
       "  </thead>\n",
       "  <tbody>\n",
       "    <tr>\n",
       "      <th>2014-07-01 00:00:00</th>\n",
       "      <td>False</td>\n",
       "    </tr>\n",
       "    <tr>\n",
       "      <th>2014-07-01 00:30:00</th>\n",
       "      <td>False</td>\n",
       "    </tr>\n",
       "    <tr>\n",
       "      <th>2014-07-01 01:00:00</th>\n",
       "      <td>False</td>\n",
       "    </tr>\n",
       "    <tr>\n",
       "      <th>2014-07-01 01:30:00</th>\n",
       "      <td>False</td>\n",
       "    </tr>\n",
       "    <tr>\n",
       "      <th>2014-07-01 02:00:00</th>\n",
       "      <td>False</td>\n",
       "    </tr>\n",
       "    <tr>\n",
       "      <th>...</th>\n",
       "      <td>...</td>\n",
       "    </tr>\n",
       "    <tr>\n",
       "      <th>2015-01-31 21:30:00</th>\n",
       "      <td>False</td>\n",
       "    </tr>\n",
       "    <tr>\n",
       "      <th>2015-01-31 22:00:00</th>\n",
       "      <td>False</td>\n",
       "    </tr>\n",
       "    <tr>\n",
       "      <th>2015-01-31 22:30:00</th>\n",
       "      <td>False</td>\n",
       "    </tr>\n",
       "    <tr>\n",
       "      <th>2015-01-31 23:00:00</th>\n",
       "      <td>False</td>\n",
       "    </tr>\n",
       "    <tr>\n",
       "      <th>2015-01-31 23:30:00</th>\n",
       "      <td>False</td>\n",
       "    </tr>\n",
       "  </tbody>\n",
       "</table>\n",
       "<p>10320 rows × 1 columns</p>\n",
       "</div>"
      ],
      "text/plain": [
       "                     value\n",
       "timestamp                 \n",
       "2014-07-01 00:00:00  False\n",
       "2014-07-01 00:30:00  False\n",
       "2014-07-01 01:00:00  False\n",
       "2014-07-01 01:30:00  False\n",
       "2014-07-01 02:00:00  False\n",
       "...                    ...\n",
       "2015-01-31 21:30:00  False\n",
       "2015-01-31 22:00:00  False\n",
       "2015-01-31 22:30:00  False\n",
       "2015-01-31 23:00:00  False\n",
       "2015-01-31 23:30:00  False\n",
       "\n",
       "[10320 rows x 1 columns]"
      ]
     },
     "execution_count": 150,
     "metadata": {},
     "output_type": "execute_result"
    }
   ],
   "source": [
    "taxi_data=taxi_data.dropna()\n",
    "taxi_data.isnull()"
   ]
  },
  {
   "cell_type": "markdown",
   "metadata": {},
   "source": [
    "__Describe datafarme__"
   ]
  },
  {
   "cell_type": "code",
   "execution_count": 151,
   "metadata": {},
   "outputs": [
    {
     "data": {
      "text/plain": [
       "value    int64\n",
       "dtype: object"
      ]
     },
     "execution_count": 151,
     "metadata": {},
     "output_type": "execute_result"
    }
   ],
   "source": [
    "taxi_data.dtypes"
   ]
  },
  {
   "cell_type": "markdown",
   "metadata": {},
   "source": [
    "__Visualize dataset__"
   ]
  },
  {
   "cell_type": "code",
   "execution_count": 152,
   "metadata": {},
   "outputs": [
    {
     "data": {
      "text/plain": [
       "<Figure size 1080x216 with 0 Axes>"
      ]
     },
     "metadata": {},
     "output_type": "display_data"
    },
    {
     "data": {
      "image/png": "[encoded data removed]",
      "text/plain": [
       "<Figure size 432x288 with 1 Axes>"
      ]
     },
     "metadata": {
      "needs_background": "light"
     },
     "output_type": "display_data"
    }
   ],
   "source": [
    "plt.figure(figsize=(15,3))\n",
    "taxi_data.plot()\n",
    "plt.title('NYC Taxi Passenger Count')\n",
    "plt.ylabel('Count of Passengers')\n",
    "plt.xlabel('Date')\n",
    "plt.tight_layout()\n",
    "plt.show()"
   ]
  },
  {
   "cell_type": "code",
   "execution_count": 153,
   "metadata": {},
   "outputs": [
    {
     "data": {
      "text/html": [
       "<div>\n",
       "<style scoped>\n",
       "    .dataframe tbody tr th:only-of-type {\n",
       "        vertical-align: middle;\n",
       "    }\n",
       "\n",
       "    .dataframe tbody tr th {\n",
       "        vertical-align: top;\n",
       "    }\n",
       "\n",
       "    .dataframe thead th {\n",
       "        text-align: right;\n",
       "    }\n",
       "</style>\n",
       "<table border=\"1\" class=\"dataframe\">\n",
       "  <thead>\n",
       "    <tr style=\"text-align: right;\">\n",
       "      <th></th>\n",
       "      <th>value</th>\n",
       "    </tr>\n",
       "  </thead>\n",
       "  <tbody>\n",
       "    <tr>\n",
       "      <th>count</th>\n",
       "      <td>10320.000000</td>\n",
       "    </tr>\n",
       "    <tr>\n",
       "      <th>mean</th>\n",
       "      <td>15137.569380</td>\n",
       "    </tr>\n",
       "    <tr>\n",
       "      <th>std</th>\n",
       "      <td>6939.495808</td>\n",
       "    </tr>\n",
       "    <tr>\n",
       "      <th>min</th>\n",
       "      <td>8.000000</td>\n",
       "    </tr>\n",
       "    <tr>\n",
       "      <th>25%</th>\n",
       "      <td>10262.000000</td>\n",
       "    </tr>\n",
       "    <tr>\n",
       "      <th>50%</th>\n",
       "      <td>16778.000000</td>\n",
       "    </tr>\n",
       "    <tr>\n",
       "      <th>75%</th>\n",
       "      <td>19838.750000</td>\n",
       "    </tr>\n",
       "    <tr>\n",
       "      <th>max</th>\n",
       "      <td>39197.000000</td>\n",
       "    </tr>\n",
       "  </tbody>\n",
       "</table>\n",
       "</div>"
      ],
      "text/plain": [
       "              value\n",
       "count  10320.000000\n",
       "mean   15137.569380\n",
       "std     6939.495808\n",
       "min        8.000000\n",
       "25%    10262.000000\n",
       "50%    16778.000000\n",
       "75%    19838.750000\n",
       "max    39197.000000"
      ]
     },
     "execution_count": 153,
     "metadata": {},
     "output_type": "execute_result"
    }
   ],
   "source": [
    "#Describe Dataset\n",
    "taxi_data.describe()"
   ]
  },
  {
   "cell_type": "markdown",
   "metadata": {},
   "source": [
    "__Create Events__"
   ]
  },
  {
   "cell_type": "code",
   "execution_count": 154,
   "metadata": {},
   "outputs": [],
   "source": [
    "events = {\n",
    "'nyc_marathon'     : ('2014-11-02 00:00:00',\n",
    "                      '2014-11-03 00:00:00'),\n",
    "'thanksgiving'     : ('2014-11-27 00:00:00',\n",
    "                      '2014-11-28 00:00:00'),\n",
    "'christmas'        : ('2014-12-25 00:00:00',\n",
    "                      '2014-12-26 00:00:00'),\n",
    "'new_year'         : ('2015-01-01 00:00:00',\n",
    "                      '2015-01-02 00:00:00'),\n",
    "'snow_storm'         : ('2015-01-26 00:00:00',\n",
    "                      '2015-01-28 00:00:00')\n",
    "}"
   ]
  },
  {
   "cell_type": "markdown",
   "metadata": {},
   "source": [
    "#### Detect anomalies in the dataset\n",
    "Create a column with with '0.0' as column value. Assign '1' for days with anomalies"
   ]
  },
  {
   "cell_type": "code",
   "execution_count": 155,
   "metadata": {},
   "outputs": [
    {
     "data": {
      "text/html": [
       "<div>\n",
       "<style scoped>\n",
       "    .dataframe tbody tr th:only-of-type {\n",
       "        vertical-align: middle;\n",
       "    }\n",
       "\n",
       "    .dataframe tbody tr th {\n",
       "        vertical-align: top;\n",
       "    }\n",
       "\n",
       "    .dataframe thead th {\n",
       "        text-align: right;\n",
       "    }\n",
       "</style>\n",
       "<table border=\"1\" class=\"dataframe\">\n",
       "  <thead>\n",
       "    <tr style=\"text-align: right;\">\n",
       "      <th></th>\n",
       "      <th>value</th>\n",
       "      <th>event</th>\n",
       "    </tr>\n",
       "    <tr>\n",
       "      <th>timestamp</th>\n",
       "      <th></th>\n",
       "      <th></th>\n",
       "    </tr>\n",
       "  </thead>\n",
       "  <tbody>\n",
       "    <tr>\n",
       "      <th>2014-07-01 00:00:00</th>\n",
       "      <td>10844</td>\n",
       "      <td>0.0</td>\n",
       "    </tr>\n",
       "    <tr>\n",
       "      <th>2014-07-01 00:30:00</th>\n",
       "      <td>8127</td>\n",
       "      <td>0.0</td>\n",
       "    </tr>\n",
       "    <tr>\n",
       "      <th>2014-07-01 01:00:00</th>\n",
       "      <td>6210</td>\n",
       "      <td>0.0</td>\n",
       "    </tr>\n",
       "    <tr>\n",
       "      <th>2014-07-01 01:30:00</th>\n",
       "      <td>4656</td>\n",
       "      <td>0.0</td>\n",
       "    </tr>\n",
       "    <tr>\n",
       "      <th>2014-07-01 02:00:00</th>\n",
       "      <td>3820</td>\n",
       "      <td>0.0</td>\n",
       "    </tr>\n",
       "  </tbody>\n",
       "</table>\n",
       "</div>"
      ],
      "text/plain": [
       "                     value  event\n",
       "timestamp                        \n",
       "2014-07-01 00:00:00  10844    0.0\n",
       "2014-07-01 00:30:00   8127    0.0\n",
       "2014-07-01 01:00:00   6210    0.0\n",
       "2014-07-01 01:30:00   4656    0.0\n",
       "2014-07-01 02:00:00   3820    0.0"
      ]
     },
     "execution_count": 155,
     "metadata": {},
     "output_type": "execute_result"
    }
   ],
   "source": [
    "taxi_data['event'] = np.zeros(len(taxi_data))\n",
    "taxi_data.head()"
   ]
  },
  {
   "cell_type": "code",
   "execution_count": 156,
   "metadata": {},
   "outputs": [],
   "source": [
    "for event, duration in events.items():\n",
    "    start, end = duration\n",
    "    taxi_data.loc[start:end, 'event'] = 1"
   ]
  },
  {
   "cell_type": "markdown",
   "metadata": {},
   "source": [
    "#### Exploratory data analysis"
   ]
  },
  {
   "cell_type": "code",
   "execution_count": 157,
   "metadata": {},
   "outputs": [
    {
     "name": "stdout",
     "output_type": "stream",
     "text": [
      "Mean of passengers without anomalies: value    15281.442605\n",
      "event        0.000000\n",
      "dtype: float64\n",
      "Mean of passengers on anomalies data: value    10213.962457\n",
      "event        1.000000\n",
      "dtype: float64\n"
     ]
    }
   ],
   "source": [
    "# Mean of regular dataset and anlomalies\n",
    "option=['0.0']\n",
    "a= taxi_data[taxi_data['event'].isin(option)]\n",
    "x= a.mean()\n",
    "option=['1']\n",
    "b= taxi_data[taxi_data['event'].isin(option)]\n",
    "y= b.mean()\n",
    "print(\"Mean of passengers without anomalies:\", x)\n",
    "print(\"Mean of passengers on anomalies data:\", y)"
   ]
  },
  {
   "cell_type": "code",
   "execution_count": 158,
   "metadata": {},
   "outputs": [],
   "source": [
    "#Distribute dataset into normal and anomaly dates\n",
    "normal= taxi_data[taxi_data['event']==0.0]\n",
    "anomaly= taxi_data[taxi_data['event']==1]"
   ]
  },
  {
   "cell_type": "code",
   "execution_count": 159,
   "metadata": {},
   "outputs": [
    {
     "name": "stdout",
     "output_type": "stream",
     "text": [
      "(10027, 2) (293, 2)\n"
     ]
    }
   ],
   "source": [
    "print(normal.shape, anomaly.shape)"
   ]
  },
  {
   "cell_type": "code",
   "execution_count": 160,
   "metadata": {},
   "outputs": [
    {
     "data": {
      "text/html": [
       "<div>\n",
       "<style scoped>\n",
       "    .dataframe tbody tr th:only-of-type {\n",
       "        vertical-align: middle;\n",
       "    }\n",
       "\n",
       "    .dataframe tbody tr th {\n",
       "        vertical-align: top;\n",
       "    }\n",
       "\n",
       "    .dataframe thead th {\n",
       "        text-align: right;\n",
       "    }\n",
       "</style>\n",
       "<table border=\"1\" class=\"dataframe\">\n",
       "  <thead>\n",
       "    <tr style=\"text-align: right;\">\n",
       "      <th></th>\n",
       "      <th>value</th>\n",
       "      <th>event</th>\n",
       "    </tr>\n",
       "  </thead>\n",
       "  <tbody>\n",
       "    <tr>\n",
       "      <th>count</th>\n",
       "      <td>293.000000</td>\n",
       "      <td>293.0</td>\n",
       "    </tr>\n",
       "    <tr>\n",
       "      <th>mean</th>\n",
       "      <td>10213.962457</td>\n",
       "      <td>1.0</td>\n",
       "    </tr>\n",
       "    <tr>\n",
       "      <th>std</th>\n",
       "      <td>6567.877240</td>\n",
       "      <td>0.0</td>\n",
       "    </tr>\n",
       "    <tr>\n",
       "      <th>min</th>\n",
       "      <td>8.000000</td>\n",
       "      <td>1.0</td>\n",
       "    </tr>\n",
       "    <tr>\n",
       "      <th>25%</th>\n",
       "      <td>5159.000000</td>\n",
       "      <td>1.0</td>\n",
       "    </tr>\n",
       "    <tr>\n",
       "      <th>50%</th>\n",
       "      <td>10164.000000</td>\n",
       "      <td>1.0</td>\n",
       "    </tr>\n",
       "    <tr>\n",
       "      <th>75%</th>\n",
       "      <td>13990.000000</td>\n",
       "      <td>1.0</td>\n",
       "    </tr>\n",
       "    <tr>\n",
       "      <th>max</th>\n",
       "      <td>39197.000000</td>\n",
       "      <td>1.0</td>\n",
       "    </tr>\n",
       "  </tbody>\n",
       "</table>\n",
       "</div>"
      ],
      "text/plain": [
       "              value  event\n",
       "count    293.000000  293.0\n",
       "mean   10213.962457    1.0\n",
       "std     6567.877240    0.0\n",
       "min        8.000000    1.0\n",
       "25%     5159.000000    1.0\n",
       "50%    10164.000000    1.0\n",
       "75%    13990.000000    1.0\n",
       "max    39197.000000    1.0"
      ]
     },
     "execution_count": 160,
     "metadata": {},
     "output_type": "execute_result"
    }
   ],
   "source": [
    "anomaly.describe()"
   ]
  },
  {
   "cell_type": "code",
   "execution_count": 161,
   "metadata": {},
   "outputs": [
    {
     "data": {
      "text/html": [
       "<div>\n",
       "<style scoped>\n",
       "    .dataframe tbody tr th:only-of-type {\n",
       "        vertical-align: middle;\n",
       "    }\n",
       "\n",
       "    .dataframe tbody tr th {\n",
       "        vertical-align: top;\n",
       "    }\n",
       "\n",
       "    .dataframe thead th {\n",
       "        text-align: right;\n",
       "    }\n",
       "</style>\n",
       "<table border=\"1\" class=\"dataframe\">\n",
       "  <thead>\n",
       "    <tr style=\"text-align: right;\">\n",
       "      <th></th>\n",
       "      <th>value</th>\n",
       "      <th>event</th>\n",
       "    </tr>\n",
       "  </thead>\n",
       "  <tbody>\n",
       "    <tr>\n",
       "      <th>count</th>\n",
       "      <td>10027.000000</td>\n",
       "      <td>10027.0</td>\n",
       "    </tr>\n",
       "    <tr>\n",
       "      <th>mean</th>\n",
       "      <td>15281.442605</td>\n",
       "      <td>0.0</td>\n",
       "    </tr>\n",
       "    <tr>\n",
       "      <th>std</th>\n",
       "      <td>6897.713372</td>\n",
       "      <td>0.0</td>\n",
       "    </tr>\n",
       "    <tr>\n",
       "      <th>min</th>\n",
       "      <td>1279.000000</td>\n",
       "      <td>0.0</td>\n",
       "    </tr>\n",
       "    <tr>\n",
       "      <th>25%</th>\n",
       "      <td>10740.500000</td>\n",
       "      <td>0.0</td>\n",
       "    </tr>\n",
       "    <tr>\n",
       "      <th>50%</th>\n",
       "      <td>16895.000000</td>\n",
       "      <td>0.0</td>\n",
       "    </tr>\n",
       "    <tr>\n",
       "      <th>75%</th>\n",
       "      <td>19932.500000</td>\n",
       "      <td>0.0</td>\n",
       "    </tr>\n",
       "    <tr>\n",
       "      <th>max</th>\n",
       "      <td>30373.000000</td>\n",
       "      <td>0.0</td>\n",
       "    </tr>\n",
       "  </tbody>\n",
       "</table>\n",
       "</div>"
      ],
      "text/plain": [
       "              value    event\n",
       "count  10027.000000  10027.0\n",
       "mean   15281.442605      0.0\n",
       "std     6897.713372      0.0\n",
       "min     1279.000000      0.0\n",
       "25%    10740.500000      0.0\n",
       "50%    16895.000000      0.0\n",
       "75%    19932.500000      0.0\n",
       "max    30373.000000      0.0"
      ]
     },
     "execution_count": 161,
     "metadata": {},
     "output_type": "execute_result"
    }
   ],
   "source": [
    "normal.describe()"
   ]
  },
  {
   "cell_type": "markdown",
   "metadata": {},
   "source": [
    "#### Plotting data"
   ]
  },
  {
   "cell_type": "code",
   "execution_count": 162,
   "metadata": {},
   "outputs": [],
   "source": [
    "#Random Forrest algorithm\n",
    "num_trees = 200\n",
    "shingle_size = 48\n",
    "tree_size = 1000"
   ]
  },
  {
   "cell_type": "code",
   "execution_count": 163,
   "metadata": {},
   "outputs": [],
   "source": [
    "#Creating a rolling window\n",
    "\n",
    "points = rrcf.shingle(data, size=shingle_size)\n",
    "points = np.vstack([point for point in points])\n",
    "n = points.shape[0]\n",
    "sample_size_range = (n // tree_size, tree_size)"
   ]
  },
  {
   "cell_type": "code",
   "execution_count": 164,
   "metadata": {},
   "outputs": [],
   "source": [
    "forest = []\n",
    "while len(forest) < num_trees:\n",
    "    ixs = np.random.choice(n, size=sample_size_range,\n",
    "                           replace=False)\n",
    "    trees = [rrcf.RCTree(points[ix], index_labels=ix)\n",
    "             for ix in ixs]\n",
    "    forest.extend(trees)\n",
    "    \n",
    "avg_codisp = pd.Series(0.0, index=np.arange(n))\n",
    "index = np.zeros(n)"
   ]
  },
  {
   "cell_type": "code",
   "execution_count": 165,
   "metadata": {},
   "outputs": [],
   "source": [
    "for tree in forest:\n",
    "    codisp = pd.Series({leaf : tree.codisp(leaf)\n",
    "                        for leaf in tree.leaves})\n",
    "    avg_codisp[codisp.index] += codisp\n",
    "    np.add.at(index, codisp.index.values, 1)\n",
    "    \n",
    "avg_codisp /= index\n",
    "avg_codisp.index = taxi_data.iloc[(shingle_size - 1):].index"
   ]
  },
  {
   "cell_type": "code",
   "execution_count": 166,
   "metadata": {},
   "outputs": [],
   "source": [
    "#Running isolation forrest\n",
    "contamination = taxi_data['event'].sum()/len(taxi_data)\n",
    "IF = IsolationForest(n_estimators=num_trees,\n",
    "                     contamination=contamination,\n",
    "                     behaviour='new',\n",
    "                     random_state=0)\n",
    "IF.fit(points)\n",
    "if_scores = IF.score_samples(points)\n",
    "if_scores = pd.Series(-if_scores,\n",
    "                      index=(taxi_data\n",
    "                             .iloc[(shingle_size - 1):]\n",
    "                             .index))"
   ]
  },
  {
   "cell_type": "code",
   "execution_count": 167,
   "metadata": {},
   "outputs": [
    {
     "data": {
      "text/plain": [
       "<matplotlib.legend.Legend at 0x1f3fc22c280>"
      ]
     },
     "execution_count": 167,
     "metadata": {},
     "output_type": "execute_result"
    },
    {
     "data": {
      "image/png": "[encoded data removed]",
      "text/plain": [
       "<Figure size 720x432 with 2 Axes>"
      ]
     },
     "metadata": {
      "needs_background": "light"
     },
     "output_type": "display_data"
    }
   ],
   "source": [
    "#Plot the dataset\n",
    "avg_codisp = ((avg_codisp - avg_codisp.min())\n",
    "              / (avg_codisp.max() - avg_codisp.min()))\n",
    "if_scores = ((if_scores - if_scores.min())\n",
    "              / (if_scores.max() - if_scores.min()))\n",
    "              \n",
    "fig, ax = plt.subplots(2, figsize=(10, 6))\n",
    "(taxi_data['value'] / 1000).plot(ax=ax[0], color='0.5',\n",
    "                            alpha=0.8)\n",
    "if_scores.plot(ax=ax[1], color='#7EBDE6', alpha=0.8,\n",
    "               label='IF')\n",
    "avg_codisp.plot(ax=ax[1], color='#E8685D', alpha=0.8,\n",
    "                label='RRCF')\n",
    "ax[1].legend(frameon=True, loc=2, fontsize=12)"
   ]
  },
  {
   "cell_type": "code",
   "execution_count": 168,
   "metadata": {},
   "outputs": [],
   "source": [
    "#Finding outliers\n",
    "outlier_fraction=len(anomaly)/float(len(normal))"
   ]
  },
  {
   "cell_type": "code",
   "execution_count": 169,
   "metadata": {},
   "outputs": [
    {
     "name": "stdout",
     "output_type": "stream",
     "text": [
      "0.02922110302184103\n",
      "Holidays 293\n",
      "Regular Days 10027\n"
     ]
    }
   ],
   "source": [
    "print(outlier_fraction)\n",
    "print(\"Holidays\", format(len(anomaly)))\n",
    "print(\"Regular Days\",format(len(normal)))"
   ]
  },
  {
   "cell_type": "code",
   "execution_count": 170,
   "metadata": {},
   "outputs": [
    {
     "name": "stdout",
     "output_type": "stream",
     "text": [
      "(10320, 1)\n",
      "(10320,)\n"
     ]
    }
   ],
   "source": [
    "#create independent and Dependent Features\n",
    "columns = taxi_data.columns.tolist()\n",
    "# Filter the columns to remove data we do not want \n",
    "columns = [c for c in columns if c not in [\"event\"]]\n",
    "# Store the variable we are predicting \n",
    "target = \"event\"\n",
    "# Define a random state \n",
    "state = np.random.RandomState(42)\n",
    "X = taxi_data[columns]\n",
    "Y = taxi_data[target]\n",
    "X_outliers = state.uniform(low=0, high=1, size=(X.shape[0], X.shape[1]))\n",
    "# Print the shapes of X & Y\n",
    "print(X.shape)\n",
    "print(Y.shape)"
   ]
  },
  {
   "cell_type": "code",
   "execution_count": 171,
   "metadata": {},
   "outputs": [],
   "source": [
    "from sklearn.metrics import classification_report,accuracy_score\n",
    "from sklearn.ensemble import IsolationForest\n",
    "from sklearn.neighbors import LocalOutlierFactor\n",
    "from sklearn.svm import OneClassSVM\n",
    "from pylab import rcParams\n",
    "\n",
    "##Define the outlier detection methods\n",
    "\n",
    "classifiers = {\n",
    "    \"Isolation Forest\":IsolationForest(n_estimators=100, max_samples=len(X), \n",
    "                                       contamination=outlier_fraction,random_state=state, verbose=0),\n",
    "    \"Local Outlier Factor\":LocalOutlierFactor(n_neighbors=20, algorithm='auto', \n",
    "                                              leaf_size=30, metric='minkowski',\n",
    "                                              p=2, metric_params=None, contamination=outlier_fraction),\n",
    "    \"Support Vector Machine\":OneClassSVM(kernel='rbf', degree=3, gamma=0.1,nu=0.05, \n",
    "                                         max_iter=-1)\n",
    "   \n",
    "}"
   ]
  },
  {
   "cell_type": "code",
   "execution_count": 172,
   "metadata": {},
   "outputs": [
    {
     "data": {
      "text/plain": [
       "dict"
      ]
     },
     "execution_count": 172,
     "metadata": {},
     "output_type": "execute_result"
    }
   ],
   "source": [
    "type(classifiers)"
   ]
  },
  {
   "cell_type": "code",
   "execution_count": 173,
   "metadata": {},
   "outputs": [
    {
     "name": "stdout",
     "output_type": "stream",
     "text": [
      "Isolation Forest: 515\n",
      "Accuracy Score :\n",
      "0.9500968992248062\n",
      "Classification Report :\n",
      "              precision    recall  f1-score   support\n",
      "\n",
      "         0.0       0.97      0.97      0.97     10027\n",
      "         1.0       0.13      0.14      0.13       293\n",
      "\n",
      "    accuracy                           0.95     10320\n",
      "   macro avg       0.55      0.56      0.55     10320\n",
      "weighted avg       0.95      0.95      0.95     10320\n",
      "\n",
      "Local Outlier Factor: 573\n",
      "Accuracy Score :\n",
      "0.9444767441860465\n",
      "Classification Report :\n",
      "              precision    recall  f1-score   support\n",
      "\n",
      "         0.0       0.97      0.97      0.97     10027\n",
      "         1.0       0.03      0.03      0.03       293\n",
      "\n",
      "    accuracy                           0.94     10320\n",
      "   macro avg       0.50      0.50      0.50     10320\n",
      "weighted avg       0.95      0.94      0.94     10320\n",
      "\n",
      "Support Vector Machine: 4267\n",
      "Accuracy Score :\n",
      "0.586531007751938\n",
      "Classification Report :\n",
      "              precision    recall  f1-score   support\n",
      "\n",
      "         0.0       0.97      0.59      0.74     10027\n",
      "         1.0       0.03      0.46      0.06       293\n",
      "\n",
      "    accuracy                           0.59     10320\n",
      "   macro avg       0.50      0.52      0.40     10320\n",
      "weighted avg       0.95      0.59      0.72     10320\n",
      "\n"
     ]
    }
   ],
   "source": [
    "\n",
    "n_outliers = len(anomaly)\n",
    "for i, (clf_name,clf) in enumerate(classifiers.items()):\n",
    "    #Fit the data and tag outliers\n",
    "    if clf_name == \"Local Outlier Factor\":\n",
    "        y_pred = clf.fit_predict(X)\n",
    "        scores_prediction = clf.negative_outlier_factor_\n",
    "    elif clf_name == \"Support Vector Machine\":\n",
    "        clf.fit(X)\n",
    "        y_pred = clf.predict(X)\n",
    "    else:    \n",
    "        clf.fit(X)\n",
    "        scores_prediction = clf.decision_function(X)\n",
    "        y_pred = clf.predict(X)\n",
    "    #Reshape the prediction values to 0 for regular days , 1 for Anomalies\n",
    "    y_pred[y_pred == 1] = 0\n",
    "    y_pred[y_pred == -1] = 1\n",
    "    n_errors = (y_pred != Y).sum()\n",
    "    # Run Classification Metrics\n",
    "    print(\"{}: {}\".format(clf_name,n_errors))\n",
    "    print(\"Accuracy Score :\")\n",
    "    print(accuracy_score(Y,y_pred))\n",
    "    print(\"Classification Report :\")\n",
    "    print(classification_report(Y,y_pred))"
   ]
  },
  {
   "cell_type": "markdown",
   "metadata": {},
   "source": [
    "__Observations:__ Isolation forest detected 515 outliers, local outlier detected 573 outliers and support vector machine detected 4267 outlier. Isolation forest algorithm has the maximum accuracy of 95% followed by local outlier which is 94% accurate. Hence noted that isolation forest has much better performance in detection of anomalies compared to other two algorithms. \n"
   ]
  },
  {
   "cell_type": "code",
   "execution_count": null,
   "metadata": {},
   "outputs": [],
   "source": []
  }
 ],
 "metadata": {
  "kernelspec": {
   "display_name": "Python 3",
   "language": "python",
   "name": "python3"
  },
  "language_info": {
   "codemirror_mode": {
    "name": "ipython",
    "version": 3
   },
   "file_extension": ".py",
   "mimetype": "text/x-python",
   "name": "python",
   "nbconvert_exporter": "python",
   "pygments_lexer": "ipython3",
   "version": "3.8.3"
  }
 },
 "nbformat": 4,
 "nbformat_minor": 4
}
